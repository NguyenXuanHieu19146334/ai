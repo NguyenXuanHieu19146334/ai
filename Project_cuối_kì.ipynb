{
  "cells": [
    {
      "cell_type": "code",
      "execution_count": null,
      "metadata": {
        "colab": {
          "base_uri": "https://localhost:8080/"
        },
        "id": "JTk7Fh3UG9zP",
        "outputId": "922b3e46-8d1e-4c0b-8715-dbbbb3febfd7"
      },
      "outputs": [
        {
          "output_type": "stream",
          "name": "stdout",
          "text": [
            "Drive already mounted at /content/drive; to attempt to forcibly remount, call drive.mount(\"/content/drive\", force_remount=True).\n"
          ]
        }
      ],
      "source": [
        "from google.colab import drive\n",
        "drive.mount('/content/drive')"
      ]
    },
    {
      "cell_type": "code",
      "execution_count": null,
      "metadata": {
        "id": "A9adrhG-J2Z-"
      },
      "outputs": [],
      "source": [
        "from keras import datasets, Sequential\n",
        "from keras.layers import Conv2D, Dense, MaxPooling2D, Flatten, Dropout\n",
        "import matplotlib.pyplot as plt\n",
        "from sklearn.metrics import confusion_matrix\n",
        "from sklearn.model_selection import train_test_split\n",
        "from keras.callbacks import ModelCheckpoint\n",
        "import numpy as np\n",
        "from keras.utils import np_utils    \n",
        "import matplotlib.pyplot as plt\n",
        "from tensorflow.keras.optimizers import Adam\n",
        "from keras.preprocessing import  image\n",
        "from keras.models import load_model\n",
        "from keras.preprocessing.image import load_img, img_to_array,array_to_img,ImageDataGenerator\n",
        "import numpy as np\n",
        "import os\n",
        "import cv2 as cv"
      ]
    },
    {
      "cell_type": "code",
      "execution_count": null,
      "metadata": {
        "id": "XEwlU3RIA1sp"
      },
      "outputs": [],
      "source": [
        "dir_folder = '/content/drive/MyDrive/Colab_Notebooks/DienVienNoiTieng/DienVienNoiTieng'\n",
        "x_train = []\n",
        "y_train = []\n",
        "labels = []\n",
        "count = 0\n",
        "\n",
        "# tạo lí tạo dữ liệu training\n",
        "for i in os.listdir(dir_folder):\n",
        "\n",
        "  path = os.path.join(dir_folder, i)\n",
        "  labels.append(str(i))\n",
        "\n",
        "  for j in os.listdir(path):\n",
        "\n",
        "    path_img = os.path.join(path,j)\n",
        "    \n",
        "    img = load_img(path_img, target_size=(70,70)) \n",
        "    img = img_to_array(img)\n",
        "    img = img.reshape(70,70,3) \n",
        "    img = img.astype('float32')\n",
        "    img = img/255\n",
        "\n",
        "    x_train.append(img)\n",
        "    y_train.append(count)\n",
        "\n",
        "  count += 1\n",
        "\n",
        "  "
      ]
    },
    {
      "cell_type": "code",
      "execution_count": null,
      "metadata": {
        "colab": {
          "base_uri": "https://localhost:8080/"
        },
        "id": "aS47o6mI_jlT",
        "outputId": "6b1ab8f0-ec59-4db1-dac9-96ef4cbfb006"
      },
      "outputs": [
        {
          "output_type": "stream",
          "name": "stdout",
          "text": [
            "(3000, 70, 70, 3) (3000, 5)\n"
          ]
        }
      ],
      "source": [
        "x_train = np.asarray(x_train)\n",
        "y_train = np.asarray(y_train)\n",
        "y_train = np_utils.to_categorical(y_train)\n",
        "\n",
        "print(x_train.shape, y_train.shape)"
      ]
    },
    {
      "cell_type": "code",
      "execution_count": null,
      "metadata": {
        "colab": {
          "base_uri": "https://localhost:8080/"
        },
        "id": "FS-6oCwmAG56",
        "outputId": "18a48a6a-6842-4c0e-ed29-a34ffda26451"
      },
      "outputs": [
        {
          "output_type": "stream",
          "name": "stdout",
          "text": [
            "(2100, 70, 70, 3) (2100, 5)\n",
            "(900, 70, 70, 3) (900, 5)\n"
          ]
        }
      ],
      "source": [
        "x_train, x_test, y_train, y_test = train_test_split(x_train, y_train, test_size=0.3, random_state=70)\n",
        "print(x_train.shape, y_train.shape)\n",
        "print(x_test.shape, y_test.shape)"
      ]
    },
    {
      "cell_type": "code",
      "source": [
        "model = Sequential()\n",
        "\n",
        "model.add(Conv2D(filters=32,\n",
        "                 kernel_size=(2,2),\n",
        "                 activation='relu',\n",
        "                 kernel_initializer='he_uniform',\n",
        "                 padding='same',\n",
        "                 input_shape=(70,70,3),\n",
        "                 strides=(1,1)))\n",
        "model.add(MaxPooling2D(2,2))\n",
        "model.add(Dropout(0.2))\n",
        "\n",
        "model.add(Conv2D(filters=64,\n",
        "                 kernel_size=(2,2),\n",
        "                 activation='relu',\n",
        "                 padding='same',\n",
        "                 strides=(1,1)))\n",
        "model.add(MaxPooling2D(2,2))\n",
        "model.add(Dropout(0.2))\n",
        "\n",
        "model.add(Conv2D(filters=128,\n",
        "                 kernel_size=(2,2),\n",
        "                 padding='same',\n",
        "                 activation='relu',\n",
        "                 strides=(2,2)))\n",
        "\n",
        "model.add(Flatten())\n",
        "\n",
        "model.add(Dense(512, activation='relu',input_shape=(70*70*3,), name='layer1')) \n",
        "model.add(Dropout(0.2))\n",
        "model.add(Dense(1028, activation='relu', name='layer2'))\n",
        "model.add(Dropout(0.2))\n",
        "model.add(Dense(2056, activation='relu', name='layer3'))\n",
        "model.add(Dropout(0.2))\n",
        "model.add(Dense(1028, activation='relu', name='layer6'))\n",
        "model.add(Dropout(0.2))\n",
        "model.add(Dense(5, activation='softmax', name='layer7'))\n",
        "\n",
        "model.summary()\n",
        "\n",
        "model.compile(loss = 'categorical_crossentropy', optimizer = Adam(lr=0.000001),metrics = ['accuracy'])               \n",
        "\n",
        "checkpoint = ModelCheckpoint('best_model_improved.h5',     # model filename\n",
        "                             monitor='val_accuracy',           # quantity to monitor\n",
        "                             verbose=1,                    # verbosity - 0 or 1\n",
        "                             save_best_only= True,        # The latest best model will not be overwritten\n",
        "                             mode='auto')\n",
        "\n",
        "history = model.fit(x_train, y_train, \n",
        "                    epochs=200,\n",
        "                    validation_data=(x_test, y_test),  \n",
        "                    callbacks=[checkpoint] ,                \n",
        "                    verbose=1)\n",
        "model.save('Model_hieu1.h5')"
      ],
      "metadata": {
        "id": "SXdIhPPM7NTy"
      },
      "execution_count": null,
      "outputs": []
    },
    {
      "cell_type": "code",
      "source": [
        "model.save('/content/drive/MyDrive/Colab_Notebooks/model.save/Model_hieu1.h5')"
      ],
      "metadata": {
        "id": "kTwioZ44qfVN"
      },
      "execution_count": null,
      "outputs": []
    },
    {
      "cell_type": "code",
      "source": [
        "model= load_model('/content/drive/MyDrive/Colab_Notebooks/model.save/Model_hieu1.h5')"
      ],
      "metadata": {
        "id": "w1tPjt-mfNOo"
      },
      "execution_count": null,
      "outputs": []
    },
    {
      "cell_type": "code",
      "source": [
        "classes = ['bill_gates', 'elon_musk', 'mark_zuckerberg', 'steve_jobs', 'jeff_bezos']"
      ],
      "metadata": {
        "id": "V3kvZOSlkCZ0"
      },
      "execution_count": null,
      "outputs": []
    },
    {
      "cell_type": "code",
      "source": [
        "import matplotlib.pyplot as plt\n",
        "import numpy as np\n",
        "img = load_img('bill_gates_test2.jpg', target_size=(70,70))\n",
        "plt.imshow(img)\n",
        "imgRe = img_to_array(img)\n",
        "imgRe = imgRe.reshape(1,70,70,3)  \n",
        "imgRe = imgRe.astype('float32')\n",
        "imgRe /= 255\n",
        "y_pred = model.predict(imgRe)\n",
        "a = y_pred.max()\n",
        "a = a*100\n",
        "\n",
        "print(\"Tỉ lệ so sánh:\",y_pred)\n",
        "y_classes = [np.argmax(element) for element in y_pred]\n",
        "y_classes\n",
        "print(\"Giống với:\",classes[y_classes[0]], \"nhất, độ chính xác là:\",a,\"%\")\n",
        "\n",
        "\n"
      ],
      "metadata": {
        "colab": {
          "base_uri": "https://localhost:8080/",
          "height": 303
        },
        "id": "ENhhRfLafB2m",
        "outputId": "4a0289a7-6511-4423-c647-99f5eccfa398"
      },
      "execution_count": null,
      "outputs": [
        {
          "output_type": "stream",
          "name": "stdout",
          "text": [
            "Tỉ lệ so sánh: [[0.63391054 0.21400124 0.07490882 0.02964724 0.0475321 ]]\n",
            "Giống với: bill_gates nhất, độ chính xác là: 63.391053676605225 %\n"
          ]
        },
        {
          "output_type": "display_data",
          "data": {
            "text/plain": [
              "<Figure size 432x288 with 1 Axes>"
            ],
            "image/png": "[encoded data removed]"
          },
          "metadata": {
            "needs_background": "light"
          }
        }
      ]
    }
  ],
  "metadata": {
    "accelerator": "GPU",
    "colab": {
      "collapsed_sections": [],
      "name": "Project cuối kì",
      "provenance": []
    },
    "kernelspec": {
      "display_name": "Python 3",
      "name": "python3"
    },
    "language_info": {
      "name": "python"
    }
  },
  "nbformat": 4,
  "nbformat_minor": 0
}